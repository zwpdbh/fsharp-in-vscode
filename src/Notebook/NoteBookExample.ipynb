{
 "cells": [
  {
   "attachments": {},
   "cell_type": "markdown",
   "metadata": {
    "dotnet_interactive": {
     "language": "csharp"
    },
    "polyglot_notebook": {
     "kernelName": "csharp"
    }
   },
   "source": [
    "Prepare dependencies"
   ]
  },
  {
   "attachments": {},
   "cell_type": "markdown",
   "metadata": {
    "dotnet_interactive": {
     "language": "csharp"
    },
    "polyglot_notebook": {
     "kernelName": "csharp"
    }
   },
   "source": [
    "This is for [Using Paket from F# Interactive](https://fsprojects.github.io/Paket/reference-from-repl.html). Not needed in fsx file."
   ]
  },
  {
   "cell_type": "code",
   "execution_count": 8,
   "metadata": {
    "dotnet_interactive": {
     "language": "fsharp"
    },
    "polyglot_notebook": {
     "kernelName": "fsharp"
    },
    "vscode": {
     "languageId": "polyglot-notebook"
    }
   },
   "outputs": [],
   "source": [
    "open System\n",
    "open System.IO\n",
    "\n",
    "Environment.CurrentDirectory <- __SOURCE_DIRECTORY__\n",
    "\n",
    "if not (File.Exists \"paket.exe\") then\n",
    "    let url = \"http://fsprojects.github.io/Paket/stable\"\n",
    "    use wc = new Net.WebClient()\n",
    "    let tmp = Path.GetTempFileName()\n",
    "    let stable = wc.DownloadString(url)\n",
    "    wc.DownloadFile(stable, tmp)\n",
    "    File.Move(tmp,Path.GetFileName stable)\n",
    "\n",
    "#r \"paket.exe\""
   ]
  },
  {
   "cell_type": "code",
   "execution_count": 2,
   "metadata": {
    "dotnet_interactive": {
     "language": "fsharp"
    },
    "polyglot_notebook": {
     "kernelName": "fsharp"
    },
    "vscode": {
     "languageId": "polyglot-notebook"
    }
   },
   "outputs": [],
   "source": [
    "// #r \"nuget: Plotly.NET\"\n",
    "// #r \"nuget: Plotly.NET.LayoutObjects\"\n",
    "// #r \"nuget: FSharp.Data\"\n",
    "\n",
    "#load @\"../../.paket/load/net6.0/Plotly.NET.fsx\"\n",
    "#load @\"../../.paket/load/net6.0/FSharp.Data.fsx\"\n",
    "\n",
    "open Plotly.NET\n",
    "open Plotly.NET.LayoutObjects\n",
    "open FSharp.Data\n",
    "open System"
   ]
  },
  {
   "attachments": {},
   "cell_type": "markdown",
   "metadata": {
    "dotnet_interactive": {
     "language": "csharp"
    },
    "polyglot_notebook": {
     "kernelName": "csharp"
    }
   },
   "source": [
    "Test visualization"
   ]
  },
  {
   "cell_type": "code",
   "execution_count": 7,
   "metadata": {
    "dotnet_interactive": {
     "language": "fsharp"
    },
    "polyglot_notebook": {
     "kernelName": "fsharp"
    },
    "vscode": {
     "languageId": "polyglot-notebook"
    }
   },
   "outputs": [],
   "source": [
    "let data =\n",
    "    CsvFile.Load(\"https://raw.githubusercontent.com/plotly/datasets/master/stockdata.csv\")\n",
    "\n",
    "let getChart (stock: string) =\n",
    "    let y =\n",
    "        data.Rows\n",
    "        |> Seq.map (fun row -> row.GetColumn(stock))\n",
    "        |> Seq.take 250\n",
    "\n",
    "    let x =\n",
    "        data.Rows\n",
    "        |> Seq.map (fun row -> row.GetColumn(\"Date\"))\n",
    "        |> Seq.take 250\n",
    "\n",
    "    Chart.Line(x = x, y = y, Name = stock)\n"
   ]
  },
  {
   "attachments": {},
   "cell_type": "markdown",
   "metadata": {
    "dotnet_interactive": {
     "language": "csharp"
    },
    "polyglot_notebook": {
     "kernelName": "csharp"
    }
   },
   "source": [
    "Draw the char"
   ]
  },
  {
   "cell_type": "code",
   "execution_count": 10,
   "metadata": {
    "dotnet_interactive": {
     "language": "fsharp"
    },
    "polyglot_notebook": {
     "kernelName": "fsharp"
    },
    "vscode": {
     "languageId": "polyglot-notebook"
    }
   },
   "outputs": [],
   "source": [
    "let demo01 () = \n",
    "    [ \n",
    "        getChart \"AAPL\"\n",
    "        getChart \"SBUX\"\n",
    "        getChart \"IBM\"\n",
    "        getChart \"MSFT\" ]\n",
    "    |> Chart.combine\n",
    "    |> Chart.withXAxis (LinearAxis.init (DTick = \"M1\", TickFormat = \"%b\\n%Y\", TickLabelMode=StyleParam.TickLabelMode.Period))\n",
    "    |> Chart.withTitle(\"custom tick labels with TickLabelMode='Period'\")\n",
    "    |> Chart.show\n",
    "\n",
    "demo01()"
   ]
  },
  {
   "attachments": {},
   "cell_type": "markdown",
   "metadata": {
    "dotnet_interactive": {
     "language": "csharp"
    },
    "polyglot_notebook": {
     "kernelName": "csharp"
    }
   },
   "source": [
    "Test if we could use other project's lib"
   ]
  },
  {
   "cell_type": "code",
   "execution_count": 2,
   "metadata": {
    "dotnet_interactive": {
     "language": "fsharp"
    },
    "polyglot_notebook": {
     "kernelName": "fsharp"
    },
    "vscode": {
     "languageId": "polyglot-notebook"
    }
   },
   "outputs": [
    {
     "name": "stdout",
     "output_type": "stream",
     "text": [
      "\"wpdbhzay\"\n"
     ]
    }
   ],
   "source": [
    "#r \"../Tools/bin/Debug/net6.0/Tools.dll\"\n",
    "// Need to add \"Tools\" as project reference, and build project \"Tools\" to generate the Tools.dll\n",
    "open Tools.PigLatin\n",
    "\n",
    "toPigLatin \"zwpdbh\" |> printfn \"%A\""
   ]
  },
  {
   "attachments": {},
   "cell_type": "markdown",
   "metadata": {
    "dotnet_interactive": {
     "language": "csharp"
    },
    "polyglot_notebook": {
     "kernelName": "csharp"
    }
   },
   "source": [
    "With \"Microsoft.DotNet.Interactive.ExtensionLab\" installed, we could do more.\n",
    "We will install \"Microsoft.DotNet.Interactive.ExtensionLab\" and use [paket generate-load-scripts](https://fsprojects.github.io/Paket/paket-generate-load-scripts.html#paket-generate-load-scripts) to use that package in our project.\n",
    "\n",
    "1. Edit `paket.dependencies` file\n",
    "```\n",
    "generate_load_scripts: true \n",
    "source https://api.nuget.org/v3/index.json\n",
    "nuget Microsoft.DotNet.Interactive.ExtensionLab >= 1.0.0-beta.23152.2\n",
    "```\n",
    "\n",
    "2. Install dependency package \n",
    "```\n",
    "paket install\n",
    "```\n",
    "\n",
    "3. Generate the include scripts\n",
    "```\n",
    "paket generate-load-scripts --framework net6.0\n",
    "```"
   ]
  },
  {
   "cell_type": "code",
   "execution_count": 5,
   "metadata": {
    "dotnet_interactive": {
     "language": "fsharp"
    },
    "polyglot_notebook": {
     "kernelName": "fsharp"
    },
    "vscode": {
     "languageId": "polyglot-notebook"
    }
   },
   "outputs": [],
   "source": [
    "// Use the include script as\n",
    "#load @\"../../.paket/load/net6.0/Microsoft.DotNet.Interactive.fsx\""
   ]
  },
  {
   "attachments": {},
   "cell_type": "markdown",
   "metadata": {
    "dotnet_interactive": {
     "language": "csharp"
    },
    "polyglot_notebook": {
     "kernelName": "csharp"
    }
   },
   "source": [
    "Test the new features brought in. In next code block, choose code block as \"Mermaind\""
   ]
  },
  {
   "cell_type": "code",
   "execution_count": 7,
   "metadata": {
    "dotnet_interactive": {
     "language": "mermaid"
    },
    "polyglot_notebook": {
     "kernelName": "mermaid"
    },
    "vscode": {
     "languageId": "polyglot-notebook"
    }
   },
   "outputs": [
    {
     "data": {
      "text/html": [
       "<div class=\"mermaidMarkdownContainer\" style=\"background-color:white\">\r\n",
       "<link rel=\"stylesheet\" href=\"https://cdnjs.cloudflare.com/ajax/libs/font-awesome/6.2.0/css/all.min.css\">\r\n",
       "<script type=\"text/javascript\">\r\n",
       "\r\n",
       "loadMermaid_2dc792a882864a9abbf0f9fa71fd8bc5 = () => {\r\n",
       " \r\n",
       "        (require.config({ 'paths': { 'context': '9.1.7', 'mermaidUri' : 'https://cdn.jsdelivr.net/npm/mermaid@9.1.7/dist/mermaid.min', 'urlArgs': 'cacheBuster=0d37a6e04a7a449ea1edceac87bdb606' }}) || require)(['mermaidUri'], (mermaid) => {\r\n",
       "\r\n",
       "            let renderTarget = document.getElementById('2dc792a882864a9abbf0f9fa71fd8bc5');\r\n",
       "            mermaid.mermaidAPI.render( \r\n",
       "                'mermaid_2dc792a882864a9abbf0f9fa71fd8bc5', \r\n",
       "                `sequenceDiagram\n",
       "Alice->>John: Hello John, how are you?\n",
       "loop Healthcheck\n",
       "    John->>John: Fight against hypochondria\n",
       "end\n",
       "Note right of John: Rational thoughts!\n",
       "John-->>Alice: Great!\n",
       "John->>Bob: How about you?\n",
       "Bob-->>John: Jolly good!\n",
       "`, \r\n",
       "                g => {\r\n",
       "                    renderTarget.innerHTML = g \r\n",
       "                });\r\n",
       "        },\r\n",
       "        (error) => {\r\n",
       "            console.log(error);\r\n",
       "        });\r\n",
       "}\r\n",
       "// ensure `require` is available globally\r\n",
       "if ((typeof(require) !==  typeof(Function)) || (typeof(require.config) !== typeof(Function))) {\r\n",
       "    let require_script = document.createElement('script');\r\n",
       "    require_script.setAttribute('src', 'https://cdnjs.cloudflare.com/ajax/libs/require.js/2.3.6/require.min.js');\r\n",
       "    require_script.setAttribute('type', 'text/javascript');\r\n",
       "    \r\n",
       "    \r\n",
       "    require_script.onload = function() {\r\n",
       "        loadMermaid_2dc792a882864a9abbf0f9fa71fd8bc5();\r\n",
       "    };\r\n",
       "\r\n",
       "    document.getElementsByTagName('head')[0].appendChild(require_script);\r\n",
       "}\r\n",
       "else {\r\n",
       "    loadMermaid_2dc792a882864a9abbf0f9fa71fd8bc5();\r\n",
       "}\r\n",
       "\r\n",
       "</script>\r\n",
       "<div id=\"2dc792a882864a9abbf0f9fa71fd8bc5\"></div>\r\n",
       "</div>\r\n"
      ]
     },
     "metadata": {},
     "output_type": "display_data"
    }
   ],
   "source": [
    "sequenceDiagram\n",
    "Alice->>John: Hello John, how are you?\n",
    "loop Healthcheck\n",
    "    John->>John: Fight against hypochondria\n",
    "end\n",
    "Note right of John: Rational thoughts!\n",
    "John-->>Alice: Great!\n",
    "John->>Bob: How about you?\n",
    "Bob-->>John: Jolly good!\n"
   ]
  },
  {
   "cell_type": "code",
   "execution_count": null,
   "metadata": {
    "dotnet_interactive": {
     "language": "csharp"
    },
    "polyglot_notebook": {
     "kernelName": "csharp"
    },
    "vscode": {
     "languageId": "polyglot-notebook"
    }
   },
   "outputs": [],
   "source": []
  }
 ],
 "metadata": {
  "kernelspec": {
   "display_name": ".NET (C#)",
   "language": "C#",
   "name": ".net-csharp"
  },
  "polyglot_notebook": {
   "kernelInfo": {
    "defaultKernelName": "csharp",
    "items": [
     {
      "aliases": [
       "c#",
       "C#"
      ],
      "languageName": "C#",
      "name": "csharp"
     },
     {
      "aliases": [
       "frontend"
      ],
      "languageName": null,
      "name": "vscode"
     },
     {
      "aliases": [],
      "name": ".NET"
     },
     {
      "aliases": [
       "f#",
       "F#"
      ],
      "languageName": "F#",
      "name": "fsharp"
     },
     {
      "aliases": [],
      "languageName": "HTML",
      "name": "html"
     },
     {
      "aliases": [],
      "languageName": "KQL",
      "name": "kql"
     },
     {
      "aliases": [],
      "languageName": "Mermaid",
      "name": "mermaid"
     },
     {
      "aliases": [
       "powershell"
      ],
      "languageName": "PowerShell",
      "name": "pwsh"
     },
     {
      "aliases": [],
      "languageName": "SQL",
      "name": "sql"
     },
     {
      "aliases": [],
      "name": "value"
     }
    ]
   }
  }
 },
 "nbformat": 4,
 "nbformat_minor": 2
}
