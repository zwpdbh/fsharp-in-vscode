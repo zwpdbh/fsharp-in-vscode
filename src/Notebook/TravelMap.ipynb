{
 "cells": [
  {
   "attachments": {},
   "cell_type": "markdown",
   "metadata": {
    "dotnet_interactive": {
     "language": "csharp"
    },
    "polyglot_notebook": {
     "kernelName": "csharp"
    }
   },
   "source": [
    "Prepare our HTTP API client"
   ]
  },
  {
   "cell_type": "code",
   "execution_count": 46,
   "metadata": {
    "dotnet_interactive": {
     "language": "fsharp"
    },
    "polyglot_notebook": {
     "kernelName": "fsharp"
    },
    "vscode": {
     "languageId": "polyglot-notebook"
    }
   },
   "outputs": [],
   "source": [
    "module HttpClient =\n",
    "    open System \n",
    "    open System.Net.Http \n",
    "    open System.Net.Http.Headers\n",
    "    open System.IO\n",
    "\n",
    "    type RequestMethod = \n",
    "        | Get\n",
    "        | Post \n",
    "\n",
    "    let client = new System.Net.Http.HttpClient()\n",
    "\n",
    "    let buildQueryFromMap (parameters: Map<string, string>) =\n",
    "        use content = new FormUrlEncodedContent(parameters)\n",
    "        let stream = content.ReadAsStream()\n",
    "        let reader = new StreamReader(stream)\n",
    "        reader.ReadToEnd()\n",
    "\n",
    "    let handleResponseAsync req = \n",
    "        async {\n",
    "            let! response = client.SendAsync(req) |> Async.AwaitTask\n",
    "            // response.EnsureSuccessStatusCode() |> ignore \n",
    "\n",
    "            return!\n",
    "                response.Content.ReadAsStringAsync()\n",
    "                |> Async.AwaitTask\n",
    "        }\n",
    "\n",
    "    let getRequestAsync (endpoint: string) (someHeaders: Map<string, string> option) (someQueryParameters: Map<string, string> option) = \n",
    "\n",
    "        let req = new HttpRequestMessage()\n",
    "        req.Method <- HttpMethod.Get\n",
    "\n",
    "        match someHeaders with \n",
    "        | Some headers -> \n",
    "            headers \n",
    "            |> Map.toSeq \n",
    "            |> Seq.iter (fun (k, v) -> \n",
    "                req.Headers.Add(k, v)\n",
    "            )\n",
    "        | None -> \n",
    "            ()\n",
    "\n",
    "        match someQueryParameters with \n",
    "        | Some parameters -> \n",
    "            req.RequestUri <- \n",
    "                Uri(endpoint + \"?\" + (buildQueryFromMap parameters))\n",
    "        | None -> \n",
    "            req.RequestUri <- \n",
    "                Uri(endpoint)\n",
    "\n",
    "        handleResponseAsync req\n",
    "\n",
    "\n",
    "    let postRequestAsync (endpoint: string) (someHeaders: Map<string, string> option) (someQueryParameters: Map<string, string> option) (someBody: Map<string, string> option) = \n",
    "\n",
    "        let req = new HttpRequestMessage()\n",
    "        req.Method <- HttpMethod.Get\n",
    "\n",
    "        match someHeaders with \n",
    "        | Some headers -> \n",
    "            headers \n",
    "            |> Map.toSeq \n",
    "            |> Seq.iter (fun (k, v) -> \n",
    "                req.Headers.Add(k, v)\n",
    "            )\n",
    "        | None -> \n",
    "            ()\n",
    "\n",
    "        match someQueryParameters with \n",
    "        | Some parameters -> \n",
    "            req.RequestUri <- \n",
    "                Uri(endpoint + \"?\" + (buildQueryFromMap parameters))\n",
    "        | None -> \n",
    "            req.RequestUri <- \n",
    "                Uri(endpoint)\n",
    "\n",
    "        match someBody with \n",
    "        | Some body -> \n",
    "            req.Content <- new FormUrlEncodedContent(body)\n",
    "        | None -> \n",
    "            ()\n",
    "\n",
    "        handleResponseAsync req"
   ]
  },
  {
   "attachments": {},
   "cell_type": "markdown",
   "metadata": {
    "dotnet_interactive": {
     "language": "csharp"
    },
    "polyglot_notebook": {
     "kernelName": "csharp"
    }
   },
   "source": [
    "Define our Travel module which find coordiate from place"
   ]
  },
  {
   "cell_type": "code",
   "execution_count": 47,
   "metadata": {
    "dotnet_interactive": {
     "language": "fsharp"
    },
    "polyglot_notebook": {
     "kernelName": "fsharp"
    },
    "vscode": {
     "languageId": "polyglot-notebook"
    }
   },
   "outputs": [],
   "source": [
    "module Travel = \n",
    "    // Not sure why it has this problem while in Elixir Livebook, it doesn't have this problem.\n",
    "    let locateFromNominatim place = \n",
    "        let queryOptions:  Map<string, string> = \n",
    "            Map.empty\n",
    "                .Add(\"q\", $\"{place}\")\n",
    "                .Add(\"format\", \"json\")\n",
    "                .Add(\"addressdetails\", \"1\")\n",
    "        let headerOptions: Map<string, string> = \n",
    "            Map.empty\n",
    "                .Add(\"accept\", \"application/json\")\n",
    "\n",
    "        async {\n",
    "            return! HttpClient.getRequestAsync \"https://nominatim.openstreetmap.org/search\" (Some headerOptions) (Some queryOptions)\n",
    "        }\n",
    "        \n",
    "    let locateFromBing place = \n",
    "        let bingMapApiKey = \"AoCXJTYP_sdzAo9lji9UnjEfqvmdLJoC0qUCoxEPCKcVBGgCi0wyFmvSJP7Y9o6T\"\n",
    "        let apiUrl = \"https://dev.virtualearth.net/REST/v1/Locations\"\n",
    "\n",
    "        let queryOptions:  Map<string, string> = \n",
    "            Map.empty\n",
    "                .Add(\"q\", $\"{place}\")\n",
    "                .Add(\"key\", bingMapApiKey)\n",
    "        let headerOptions: Map<string, string> = \n",
    "            Map.empty\n",
    "                .Add(\"accept\", \"application/json\")\n",
    "\n",
    "        async {\n",
    "            return! HttpClient.getRequestAsync apiUrl (Some headerOptions) (Some queryOptions)\n",
    "        }\n",
    "\n",
    "        \n",
    "        "
   ]
  },
  {
   "cell_type": "code",
   "execution_count": 48,
   "metadata": {
    "dotnet_interactive": {
     "language": "fsharp"
    },
    "polyglot_notebook": {
     "kernelName": "fsharp"
    },
    "vscode": {
     "languageId": "polyglot-notebook"
    }
   },
   "outputs": [
    {
     "data": {
      "text/plain": [
       "<html>\n",
       "<head>\n",
       "<title>Access blocked</title>\n",
       "</head>\n",
       "<body>\n",
       "<h1>Access blocked</h1>\n",
       "\n",
       "<p>You have been blocked because you have violated the\n",
       "<a href=\"https://operations.osmfoundation.org/policies/nominatim/\">usage policy</a>\n",
       "of OSM's Nominatim geocoding service. Please be aware that OSM's resources are\n",
       "limited and shared between many users. The usage policy is there to ensure that\n",
       "the service remains usable for everybody.</p>\n",
       "\n",
       "<p>Please review the terms and make sure that your\n",
       "software adheres to the terms. You should in particular verify that you have set a\n",
       "<b>custom HTTP referrer or HTTP user agent</b> that identifies your application, and\n",
       "that you are not overusing the service with massive bulk requests.</p>\n",
       "\n",
       "<p>If you feel that this block is unjustified or remains after you have adopted\n",
       "your usage, you may contact the Nominatim system administrator at\n",
       "nominatim@openstreetmap.org to have this block lifted.</p>\n",
       "</body>\n",
       "</head>\n"
      ]
     },
     "metadata": {},
     "output_type": "display_data"
    }
   ],
   "source": [
    "Travel.locateFromNominatim \"丹东市, 振兴区\" |> Async.RunSynchronously"
   ]
  },
  {
   "attachments": {},
   "cell_type": "markdown",
   "metadata": {
    "dotnet_interactive": {
     "language": "csharp"
    },
    "polyglot_notebook": {
     "kernelName": "csharp"
    }
   },
   "source": [
    "Decode something like this:\n",
    " \"\"\"\n",
    "        {\n",
    "            \"authenticationResultCode\": \"ValidCredentials\",\n",
    "            \"brandLogoUri\": \"http://dev.virtualearth.net/Branding/logo_powered_by.png\",\n",
    "            \"copyright\": \"Copyright ? 2023 Microsoft and its suppliers. All rights reserved. This API cannot be accessed and the content and any results may not be used, reproduced or transmitted in any manner without express written permission from Microsoft Corporation.\",\n",
    "            \"resourceSets\": [\n",
    "                {\n",
    "                    \"estimatedTotal\": 1,\n",
    "                    \"resources\": [\n",
    "                        {\n",
    "                            \"__type\": \"Location:http://schemas.microsoft.com/search/local/ws/rest/v1\",\n",
    "                            \"bbox\": [\n",
    "                                39.817195892333984,\n",
    "                                124.12994384765625,\n",
    "                                40.156288146972656,\n",
    "                                124.40470123291016\n",
    "                            ],\n",
    "                            \"name\": \"Zhenxing District, China\",\n",
    "                            \"point\": {\n",
    "                                \"type\": \"Point\",\n",
    "                                \"coordinates\": [\n",
    "                                    40.12990189,\n",
    "                                    124.3833313\n",
    "                                ]\n",
    "                            },\n",
    "                            \"address\": {\n",
    "                                \"adminDistrict\": \"Liaoning\",\n",
    "                                \"adminDistrict2\": \"Dandong\",\n",
    "                                \"countryRegion\": \"China\",\n",
    "                                \"formattedAddress\": \"Zhenxing District, China\",\n",
    "                                \"locality\": \"Zhenxing District\"\n",
    "                            },\n",
    "                            \"confidence\": \"High\",\n",
    "                            \"entityType\": \"PopulatedPlace\",\n",
    "                            \"geocodePoints\": [\n",
    "                                {\n",
    "                                    \"type\": \"Point\",\n",
    "                                    \"coordinates\": [\n",
    "                                        40.12990189,\n",
    "                                        124.3833313\n",
    "                                    ],\n",
    "                                    \"calculationMethod\": \"Rooftop\",\n",
    "                                    \"usageTypes\": [\n",
    "                                        \"Display\"\n",
    "                                    ]\n",
    "                                }\n",
    "                            ],\n",
    "                            \"matchCodes\": [\n",
    "                                \"Good\"\n",
    "                            ]\n",
    "                        }\n",
    "                    ]\n",
    "                }\n",
    "            ],\n",
    "            \"statusCode\": 200,\n",
    "            \"statusDescription\": \"OK\",\n",
    "            \"traceId\": \"65af3aeeb18d429abe886249bed877bd|CO00004BAE|0.0.0.1|Ref A: 047C4CDF114448729D5E2078D4C5735B Ref B: CO1EDGE1208 Ref C: 2023-03-06T13:43:55Z\"\n",
    "        }\n",
    "        \"\"\""
   ]
  },
  {
   "cell_type": "code",
   "execution_count": 49,
   "metadata": {
    "dotnet_interactive": {
     "language": "fsharp"
    },
    "polyglot_notebook": {
     "kernelName": "fsharp"
    },
    "vscode": {
     "languageId": "polyglot-notebook"
    }
   },
   "outputs": [
    {
     "name": "stdout",
     "output_type": "stream",
     "text": [
      "\"{\"authenticationResultCode\":\"ValidCredentials\",\"brandLogoUri\":\"http:\\/\\/dev.virtualearth.net\\/Branding\\/logo_powered_by.png\",\"copyright\":\"Copyright © 2023 Microsoft and its suppliers. All rights reserved. This API cannot be accessed and the content and any results may not be used, reproduced or transmitted in any manner without express written permission from Microsoft Corporation.\",\"resourceSets\":[{\"estimatedTotal\":1,\"resources\":[{\"__type\":\"Location:http:\\/\\/schemas.microsoft.com\\/search\\/local\\/ws\\/rest\\/v1\",\"bbox\":[39.817195892333984,124.12994384765625,40.156288146972656,124.40470123291016],\"name\":\"Zhenxing District, China\",\"point\":{\"type\":\"Point\",\"coordinates\":[40.12990189,124.3833313]},\"address\":{\"adminDistrict\":\"Liaoning\",\"adminDistrict2\":\"Dandong\",\"countryRegion\":\"China\",\"formattedAddress\":\"Zhenxing District, China\",\"locality\":\"Zhenxing District\"},\"confidence\":\"High\",\"entityType\":\"PopulatedPlace\",\"geocodePoints\":[{\"type\":\"Point\",\"coordinates\":[40.12990189,124.3833313],\"calculationMethod\":\"Rooftop\",\"usageTypes\":[\"Display\"]}],\"matchCodes\":[\"Good\"]}]}],\"statusCode\":200,\"statusDescription\":\"OK\",\"traceId\":\"65af3aeeb18d429abe886249bed877bd|CO00004BAE|0.0.0.1|Ref A: 047C4CDF114448729D5E2078D4C5735B Ref B: CO1EDGE1208 Ref C: 2023-03-06T13:43:55Z\"}\"\n",
      "{ ResourceSets = null }\n"
     ]
    }
   ],
   "source": [
    "#load @\"../../.paket/load/net6.0/Thoth.Json.Net.fsx\"\n",
    "open Thoth.Json.Net\n",
    "\n",
    "type Cooridate = {\n",
    "    lat: float \n",
    "    lon: float\n",
    "}\n",
    "\n",
    "\n",
    "type TravelPlace = {\n",
    "    name: string\n",
    "    coordinate: Cooridate\n",
    "}\n",
    "\n",
    "\n",
    "let coordinateDecoder: Decoder<Cooridate> = \n",
    "    Decode.object (\n",
    "        fun get -> \n",
    "            {\n",
    "                let cooridates = \n",
    "                    (get.Required.Field \"coordinates\" (Decode.list float))\n",
    "                    |> Array.ofList\n",
    "\n",
    "                Cooridate.lat = coordiates[0]\n",
    "                Cooridate.lon = coordiates[1]\n",
    "\n",
    "            }\n",
    "    )\n",
    "\n",
    "let (|GetCoordiateFromStr|_|) pointStr: Option<Cooridate option> = \n",
    "    match pointStr |> Decode.fromString (Decode)\n",
    "\n",
    "\n",
    "\n",
    "let mapDecoder: Decoder<TravelPlace> = \n",
    "    Decode.object (\n",
    "        fun get -> \n",
    "        {\n",
    "            TravelPlace.name = get.Required.Field \"name\" Decode.string\n",
    "            TravelPlace.lat = get.\n",
    "        }\n",
    "    )\n",
    "\n",
    "let responseStr = Travel.locateFromBing \"丹东市, 振兴区\" |> Async.RunSynchronously\n",
    "printfn \"%A\" responseStr\n",
    "\n",
    "\n",
    "// // Extract the coordinates from the response object\n",
    "// let coordinates =\n",
    "//     match responseObj.ResourceSets |> Seq.tryHead with\n",
    "//     | Some(resourceSet) ->\n",
    "//         match resourceSet.Resources |> Seq.tryHead with\n",
    "//         | Some(resource) ->\n",
    "//             match resource.Point with\n",
    "//             | Some(point) -> (point.Coordinates.[0], point.Coordinates.[1])\n",
    "//             | None -> failwith \"No coordinates found in response\"\n",
    "//         | None -> failwith \"No resources found in response\"\n",
    "//     | None -> failwith \"No resource sets found in response\"\n",
    "\n",
    "// // Process the coordinates here\n",
    "// printfn \"Latitude: %f, Longitude: %f\" (fst coordinates) (snd coordinates)"
   ]
  },
  {
   "attachments": {},
   "cell_type": "markdown",
   "metadata": {
    "dotnet_interactive": {
     "language": "csharp"
    },
    "polyglot_notebook": {
     "kernelName": "csharp"
    }
   },
   "source": [
    "\n"
   ]
  }
 ],
 "metadata": {
  "kernelspec": {
   "display_name": ".NET (C#)",
   "language": "C#",
   "name": ".net-csharp"
  },
  "polyglot_notebook": {
   "kernelInfo": {
    "defaultKernelName": "csharp",
    "items": [
     {
      "aliases": [
       "c#",
       "C#"
      ],
      "languageName": "C#",
      "name": "csharp"
     },
     {
      "aliases": [],
      "languageName": "KQL",
      "name": "kql"
     },
     {
      "aliases": [
       "frontend"
      ],
      "languageName": null,
      "name": "vscode"
     }
    ]
   }
  }
 },
 "nbformat": 4,
 "nbformat_minor": 2
}
