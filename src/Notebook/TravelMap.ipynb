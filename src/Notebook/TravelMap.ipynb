{
 "cells": [
  {
   "attachments": {},
   "cell_type": "markdown",
   "metadata": {
    "dotnet_interactive": {
     "language": "csharp"
    },
    "polyglot_notebook": {
     "kernelName": "csharp"
    }
   },
   "source": [
    "Prepare our HTTP API client"
   ]
  },
  {
   "cell_type": "code",
   "execution_count": 10,
   "metadata": {
    "dotnet_interactive": {
     "language": "fsharp"
    },
    "polyglot_notebook": {
     "kernelName": "fsharp"
    },
    "vscode": {
     "languageId": "polyglot-notebook"
    }
   },
   "outputs": [],
   "source": [
    "module HttpClient =\n",
    "    open System \n",
    "    open System.Net.Http \n",
    "    open System.IO\n",
    "\n",
    "    type RequestMethod = \n",
    "        | Get\n",
    "        | Post \n",
    "\n",
    "    let client = new System.Net.Http.HttpClient()\n",
    "\n",
    "    let buildQueryFromMap (parameters: Map<string, string>) =\n",
    "        use content = new FormUrlEncodedContent(parameters)\n",
    "        let stream = content.ReadAsStream()\n",
    "        let reader = new StreamReader(stream)\n",
    "        reader.ReadToEnd()\n",
    "\n",
    "    let handleResponseAsync req = \n",
    "        async {\n",
    "            let! response = client.SendAsync(req) |> Async.AwaitTask\n",
    "            response.EnsureSuccessStatusCode() |> ignore \n",
    "\n",
    "            return!\n",
    "                response.Content.ReadAsStringAsync()\n",
    "                |> Async.AwaitTask\n",
    "        }\n",
    "\n",
    "    let getRequestAsync (endpoint: string) (someHeaders: Map<string, string> option) (someQueryParameters: Map<string, string> option) = \n",
    "\n",
    "        let req = new HttpRequestMessage()\n",
    "        req.Method <- HttpMethod.Get\n",
    "\n",
    "        match someHeaders with \n",
    "        | Some headers -> \n",
    "            headers \n",
    "            |> Map.toSeq \n",
    "            |> Seq.iter (fun (k, v) -> \n",
    "                req.Headers.Add(k, v)\n",
    "            )\n",
    "        | None -> \n",
    "            ()\n",
    "\n",
    "        match someQueryParameters with \n",
    "        | Some parameters -> \n",
    "            req.RequestUri <- \n",
    "                Uri(endpoint + \"?\" + (buildQueryFromMap parameters))\n",
    "        | None -> \n",
    "            req.RequestUri <- \n",
    "                Uri(endpoint)\n",
    "\n",
    "\n",
    "\n",
    "        handleResponseAsync req\n",
    "\n",
    "\n",
    "    let postRequestAsync (endpoint: string) (someHeaders: Map<string, string> option) (someQueryParameters: Map<string, string> option) (someBody: Map<string, string> option) = \n",
    "\n",
    "        let req = new HttpRequestMessage()\n",
    "        req.Method <- HttpMethod.Get\n",
    "\n",
    "        match someHeaders with \n",
    "        | Some headers -> \n",
    "            headers \n",
    "            |> Map.toSeq \n",
    "            |> Seq.iter (fun (k, v) -> \n",
    "                req.Headers.Add(k, v)\n",
    "            )\n",
    "        | None -> \n",
    "            ()\n",
    "\n",
    "        match someQueryParameters with \n",
    "        | Some parameters -> \n",
    "            req.RequestUri <- \n",
    "                Uri(endpoint + \"?\" + (buildQueryFromMap parameters))\n",
    "        | None -> \n",
    "            req.RequestUri <- \n",
    "                Uri(endpoint)\n",
    "\n",
    "        match someBody with \n",
    "        | Some body -> \n",
    "            req.Content <- new FormUrlEncodedContent(body)\n",
    "        | None -> \n",
    "            ()\n",
    "\n",
    "        handleResponseAsync req"
   ]
  },
  {
   "attachments": {},
   "cell_type": "markdown",
   "metadata": {
    "dotnet_interactive": {
     "language": "csharp"
    },
    "polyglot_notebook": {
     "kernelName": "csharp"
    }
   },
   "source": [
    "Define our Travel module which find coordiate from place"
   ]
  },
  {
   "cell_type": "code",
   "execution_count": 11,
   "metadata": {
    "dotnet_interactive": {
     "language": "fsharp"
    },
    "polyglot_notebook": {
     "kernelName": "fsharp"
    },
    "vscode": {
     "languageId": "polyglot-notebook"
    }
   },
   "outputs": [],
   "source": [
    "module Travel = \n",
    "    let locate place = \n",
    "        let queryOptions:  Map<string, string> = \n",
    "            Map.empty\n",
    "                .Add(\"q\", $\"{place}\")\n",
    "                .Add(\"format\", \"json\")\n",
    "                .Add(\"addressdetails\", \"1\")\n",
    "\n",
    "        async {\n",
    "            return! HttpClient.getRequestAsync \"https://nominatim.openstreetmap.org/search\" None (Some queryOptions)\n",
    "        }\n",
    "        \n",
    "\n",
    "        \n",
    "        "
   ]
  },
  {
   "cell_type": "code",
   "execution_count": 12,
   "metadata": {
    "dotnet_interactive": {
     "language": "fsharp"
    },
    "polyglot_notebook": {
     "kernelName": "fsharp"
    },
    "vscode": {
     "languageId": "polyglot-notebook"
    }
   },
   "outputs": [
    {
     "ename": "Error",
     "evalue": "System.Net.Http.HttpRequestException: Response status code does not indicate success: 403 (Forbidden).\r\n   at System.Net.Http.HttpResponseMessage.EnsureSuccessStatusCode()\r\n   at FSI_0020.HttpClient.handleResponseAsync@21-4.Invoke(HttpResponseMessage response)\r\n   at Microsoft.FSharp.Control.AsyncPrimitives.CallThenInvokeNoHijackCheck[a,b](AsyncActivation`1 ctxt, b result1, FSharpFunc`2 userCode) in D:\\a\\_work\\1\\s\\src\\FSharp.Core\\async.fs:line 528\r\n   at Microsoft.FSharp.Control.Trampoline.Execute(FSharpFunc`2 firstAction) in D:\\a\\_work\\1\\s\\src\\FSharp.Core\\async.fs:line 148\r\n--- End of stack trace from previous location ---\r\n   at Microsoft.FSharp.Control.AsyncResult`1.Commit() in D:\\a\\_work\\1\\s\\src\\FSharp.Core\\async.fs:line 454\r\n   at Microsoft.FSharp.Control.AsyncPrimitives.RunImmediate[a](CancellationToken cancellationToken, FSharpAsync`1 computation) in D:\\a\\_work\\1\\s\\src\\FSharp.Core\\async.fs:line 1160\r\n   at Microsoft.FSharp.Control.AsyncPrimitives.RunSynchronously[T](CancellationToken cancellationToken, FSharpAsync`1 computation, FSharpOption`1 timeout) in D:\\a\\_work\\1\\s\\src\\FSharp.Core\\async.fs:line 1166\r\n   at Microsoft.FSharp.Control.FSharpAsync.RunSynchronously[T](FSharpAsync`1 computation, FSharpOption`1 timeout, FSharpOption`1 cancellationToken) in D:\\a\\_work\\1\\s\\src\\FSharp.Core\\async.fs:line 1511\r\n   at <StartupCode$FSI_0022>.$FSI_0022.main@()\r\n   at System.RuntimeMethodHandle.InvokeMethod(Object target, Void** arguments, Signature sig, Boolean isConstructor)\r\n   at System.Reflection.MethodInvoker.Invoke(Object obj, IntPtr* args, BindingFlags invokeAttr)",
     "output_type": "error",
     "traceback": [
      "System.Net.Http.HttpRequestException: Response status code does not indicate success: 403 (Forbidden).\r\n",
      "   at System.Net.Http.HttpResponseMessage.EnsureSuccessStatusCode()\r\n",
      "   at FSI_0020.HttpClient.handleResponseAsync@21-4.Invoke(HttpResponseMessage response)\r\n",
      "   at Microsoft.FSharp.Control.AsyncPrimitives.CallThenInvokeNoHijackCheck[a,b](AsyncActivation`1 ctxt, b result1, FSharpFunc`2 userCode) in D:\\a\\_work\\1\\s\\src\\FSharp.Core\\async.fs:line 528\r\n",
      "   at Microsoft.FSharp.Control.Trampoline.Execute(FSharpFunc`2 firstAction) in D:\\a\\_work\\1\\s\\src\\FSharp.Core\\async.fs:line 148\r\n",
      "--- End of stack trace from previous location ---\r\n",
      "   at Microsoft.FSharp.Control.AsyncResult`1.Commit() in D:\\a\\_work\\1\\s\\src\\FSharp.Core\\async.fs:line 454\r\n",
      "   at Microsoft.FSharp.Control.AsyncPrimitives.RunImmediate[a](CancellationToken cancellationToken, FSharpAsync`1 computation) in D:\\a\\_work\\1\\s\\src\\FSharp.Core\\async.fs:line 1160\r\n",
      "   at Microsoft.FSharp.Control.AsyncPrimitives.RunSynchronously[T](CancellationToken cancellationToken, FSharpAsync`1 computation, FSharpOption`1 timeout) in D:\\a\\_work\\1\\s\\src\\FSharp.Core\\async.fs:line 1166\r\n",
      "   at Microsoft.FSharp.Control.FSharpAsync.RunSynchronously[T](FSharpAsync`1 computation, FSharpOption`1 timeout, FSharpOption`1 cancellationToken) in D:\\a\\_work\\1\\s\\src\\FSharp.Core\\async.fs:line 1511\r\n",
      "   at <StartupCode$FSI_0022>.$FSI_0022.main@()\r\n",
      "   at System.RuntimeMethodHandle.InvokeMethod(Object target, Void** arguments, Signature sig, Boolean isConstructor)\r\n",
      "   at System.Reflection.MethodInvoker.Invoke(Object obj, IntPtr* args, BindingFlags invokeAttr)"
     ]
    }
   ],
   "source": [
    "Travel.locate \"丹东市, 振兴区\" |> Async.RunSynchronously"
   ]
  }
 ],
 "metadata": {
  "kernelspec": {
   "display_name": ".NET (C#)",
   "language": "C#",
   "name": ".net-csharp"
  },
  "polyglot_notebook": {
   "kernelInfo": {
    "defaultKernelName": "csharp",
    "items": [
     {
      "aliases": [],
      "name": "csharp"
     },
     {
      "aliases": [],
      "languageName": "KQL",
      "name": "kql"
     },
     {
      "aliases": [
       "frontend"
      ],
      "languageName": null,
      "name": "vscode"
     }
    ]
   }
  }
 },
 "nbformat": 4,
 "nbformat_minor": 2
}
