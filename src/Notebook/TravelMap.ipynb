{
 "cells": [
  {
   "attachments": {},
   "cell_type": "markdown",
   "metadata": {
    "dotnet_interactive": {
     "language": "csharp"
    },
    "polyglot_notebook": {
     "kernelName": "csharp"
    }
   },
   "source": [
    "Prepare our HTTP API client"
   ]
  },
  {
   "cell_type": "code",
   "execution_count": 30,
   "metadata": {
    "dotnet_interactive": {
     "language": "fsharp"
    },
    "polyglot_notebook": {
     "kernelName": "fsharp"
    },
    "vscode": {
     "languageId": "polyglot-notebook"
    }
   },
   "outputs": [],
   "source": [
    "module HttpClient =\n",
    "    open System \n",
    "    open System.Net.Http \n",
    "    open System.Net.Http.Headers\n",
    "    open System.IO\n",
    "\n",
    "    type RequestMethod = \n",
    "        | Get\n",
    "        | Post \n",
    "\n",
    "    let client = new System.Net.Http.HttpClient()\n",
    "\n",
    "    let buildQueryFromMap (parameters: Map<string, string>) =\n",
    "        use content = new FormUrlEncodedContent(parameters)\n",
    "        let stream = content.ReadAsStream()\n",
    "        let reader = new StreamReader(stream)\n",
    "        reader.ReadToEnd()\n",
    "\n",
    "    let handleResponseAsync req = \n",
    "        async {\n",
    "            let! response = client.SendAsync(req) |> Async.AwaitTask\n",
    "            // response.EnsureSuccessStatusCode() |> ignore \n",
    "\n",
    "            return!\n",
    "                response.Content.ReadAsStringAsync()\n",
    "                |> Async.AwaitTask\n",
    "        }\n",
    "\n",
    "    let getRequestAsync (endpoint: string) (someHeaders: Map<string, string> option) (someQueryParameters: Map<string, string> option) = \n",
    "\n",
    "        let req = new HttpRequestMessage()\n",
    "        req.Method <- HttpMethod.Get\n",
    "\n",
    "        match someHeaders with \n",
    "        | Some headers -> \n",
    "            headers \n",
    "            |> Map.toSeq \n",
    "            |> Seq.iter (fun (k, v) -> \n",
    "                req.Headers.Add(k, v)\n",
    "            )\n",
    "        | None -> \n",
    "            ()\n",
    "\n",
    "        match someQueryParameters with \n",
    "        | Some parameters -> \n",
    "            req.RequestUri <- \n",
    "                Uri(endpoint + \"?\" + (buildQueryFromMap parameters))\n",
    "        | None -> \n",
    "            req.RequestUri <- \n",
    "                Uri(endpoint)\n",
    "\n",
    "        handleResponseAsync req\n",
    "\n",
    "\n",
    "    let postRequestAsync (endpoint: string) (someHeaders: Map<string, string> option) (someQueryParameters: Map<string, string> option) (someBody: Map<string, string> option) = \n",
    "\n",
    "        let req = new HttpRequestMessage()\n",
    "        req.Method <- HttpMethod.Get\n",
    "\n",
    "        match someHeaders with \n",
    "        | Some headers -> \n",
    "            headers \n",
    "            |> Map.toSeq \n",
    "            |> Seq.iter (fun (k, v) -> \n",
    "                req.Headers.Add(k, v)\n",
    "            )\n",
    "        | None -> \n",
    "            ()\n",
    "\n",
    "        match someQueryParameters with \n",
    "        | Some parameters -> \n",
    "            req.RequestUri <- \n",
    "                Uri(endpoint + \"?\" + (buildQueryFromMap parameters))\n",
    "        | None -> \n",
    "            req.RequestUri <- \n",
    "                Uri(endpoint)\n",
    "\n",
    "        match someBody with \n",
    "        | Some body -> \n",
    "            req.Content <- new FormUrlEncodedContent(body)\n",
    "        | None -> \n",
    "            ()\n",
    "\n",
    "        handleResponseAsync req"
   ]
  },
  {
   "attachments": {},
   "cell_type": "markdown",
   "metadata": {
    "dotnet_interactive": {
     "language": "csharp"
    },
    "polyglot_notebook": {
     "kernelName": "csharp"
    }
   },
   "source": [
    "Define our Travel module which find coordiate from place"
   ]
  },
  {
   "cell_type": "code",
   "execution_count": 31,
   "metadata": {
    "dotnet_interactive": {
     "language": "fsharp"
    },
    "polyglot_notebook": {
     "kernelName": "fsharp"
    },
    "vscode": {
     "languageId": "polyglot-notebook"
    }
   },
   "outputs": [],
   "source": [
    "module Travel = \n",
    "    let locate place = \n",
    "        let queryOptions:  Map<string, string> = \n",
    "            Map.empty\n",
    "                .Add(\"q\", $\"{place}\")\n",
    "                .Add(\"format\", \"json\")\n",
    "                .Add(\"addressdetails\", \"1\")\n",
    "        let headerOptions: Map<string, string> = \n",
    "            Map.empty\n",
    "                .Add(\"accept\", \"application/json\")\n",
    "\n",
    "        async {\n",
    "            return! HttpClient.getRequestAsync \"https://nominatim.openstreetmap.org/search\" (Some headerOptions) (Some queryOptions)\n",
    "        }\n",
    "        \n",
    "\n",
    "        \n",
    "        "
   ]
  },
  {
   "cell_type": "code",
   "execution_count": 32,
   "metadata": {
    "dotnet_interactive": {
     "language": "fsharp"
    },
    "polyglot_notebook": {
     "kernelName": "fsharp"
    },
    "vscode": {
     "languageId": "polyglot-notebook"
    }
   },
   "outputs": [
    {
     "data": {
      "text/plain": [
       "<html>\n",
       "<head>\n",
       "<title>Access blocked</title>\n",
       "</head>\n",
       "<body>\n",
       "<h1>Access blocked</h1>\n",
       "\n",
       "<p>You have been blocked because you have violated the\n",
       "<a href=\"https://operations.osmfoundation.org/policies/nominatim/\">usage policy</a>\n",
       "of OSM's Nominatim geocoding service. Please be aware that OSM's resources are\n",
       "limited and shared between many users. The usage policy is there to ensure that\n",
       "the service remains usable for everybody.</p>\n",
       "\n",
       "<p>Please review the terms and make sure that your\n",
       "software adheres to the terms. You should in particular verify that you have set a\n",
       "<b>custom HTTP referrer or HTTP user agent</b> that identifies your application, and\n",
       "that you are not overusing the service with massive bulk requests.</p>\n",
       "\n",
       "<p>If you feel that this block is unjustified or remains after you have adopted\n",
       "your usage, you may contact the Nominatim system administrator at\n",
       "nominatim@openstreetmap.org to have this block lifted.</p>\n",
       "</body>\n",
       "</head>\n"
      ]
     },
     "metadata": {},
     "output_type": "display_data"
    }
   ],
   "source": [
    "Travel.locate \"丹东市, 振兴区\" |> Async.RunSynchronously"
   ]
  },
  {
   "attachments": {},
   "cell_type": "markdown",
   "metadata": {
    "dotnet_interactive": {
     "language": "csharp"
    },
    "polyglot_notebook": {
     "kernelName": "csharp"
    }
   },
   "source": [
    "Not sure why it has this problem while in Elixir Livebook, it doesn't have this problem."
   ]
  }
 ],
 "metadata": {
  "kernelspec": {
   "display_name": ".NET (C#)",
   "language": "C#",
   "name": ".net-csharp"
  },
  "polyglot_notebook": {
   "kernelInfo": {
    "defaultKernelName": "csharp",
    "items": [
     {
      "aliases": [
       "c#",
       "C#"
      ],
      "languageName": "C#",
      "name": "csharp"
     },
     {
      "aliases": [],
      "languageName": "KQL",
      "name": "kql"
     },
     {
      "aliases": [
       "frontend"
      ],
      "languageName": null,
      "name": "vscode"
     }
    ]
   }
  }
 },
 "nbformat": 4,
 "nbformat_minor": 2
}
