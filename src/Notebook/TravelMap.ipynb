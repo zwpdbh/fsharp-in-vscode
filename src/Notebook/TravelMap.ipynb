{
 "cells": [
  {
   "attachments": {},
   "cell_type": "markdown",
   "metadata": {
    "dotnet_interactive": {
     "language": "csharp"
    },
    "polyglot_notebook": {
     "kernelName": "csharp"
    }
   },
   "source": [
    "Prepare dependencies"
   ]
  },
  {
   "cell_type": "code",
   "execution_count": 8,
   "metadata": {
    "dotnet_interactive": {
     "language": "fsharp"
    },
    "polyglot_notebook": {
     "kernelName": "fsharp"
    },
    "vscode": {
     "languageId": "polyglot-notebook"
    }
   },
   "outputs": [],
   "source": [
    "open System\n",
    "open System.IO\n",
    "\n",
    "Environment.CurrentDirectory <- __SOURCE_DIRECTORY__\n",
    "\n",
    "if not (File.Exists \"paket.exe\") then\n",
    "    let url = \"http://fsprojects.github.io/Paket/stable\"\n",
    "    use wc = new Net.WebClient()\n",
    "    let tmp = Path.GetTempFileName()\n",
    "    let stable = wc.DownloadString(url)\n",
    "    wc.DownloadFile(stable, tmp)\n",
    "    File.Move(tmp,Path.GetFileName stable)\n",
    "\n",
    "#r \"paket.exe\""
   ]
  },
  {
   "cell_type": "code",
   "execution_count": 6,
   "metadata": {
    "dotnet_interactive": {
     "language": "fsharp"
    },
    "polyglot_notebook": {
     "kernelName": "fsharp"
    },
    "vscode": {
     "languageId": "polyglot-notebook"
    }
   },
   "outputs": [],
   "source": [
    "// #r \"nuget: Plotly.NET\"\n",
    "// #r \"nuget: Plotly.NET.LayoutObjects\"\n",
    "// #r \"nuget: FSharp.Data\"\n",
    "\n",
    "#load @\"../../.paket/load/net6.0/Plotly.NET.fsx\"\n",
    "#load @\"../../.paket/load/net6.0/FSharp.Data.fsx\"\n",
    "\n",
    "open Plotly.NET\n",
    "open Plotly.NET.LayoutObjects\n",
    "open FSharp.Data\n",
    "open System"
   ]
  },
  {
   "attachments": {},
   "cell_type": "markdown",
   "metadata": {
    "dotnet_interactive": {
     "language": "csharp"
    },
    "polyglot_notebook": {
     "kernelName": "csharp"
    }
   },
   "source": [
    "Test visualization"
   ]
  },
  {
   "cell_type": "code",
   "execution_count": 7,
   "metadata": {
    "dotnet_interactive": {
     "language": "fsharp"
    },
    "polyglot_notebook": {
     "kernelName": "fsharp"
    },
    "vscode": {
     "languageId": "polyglot-notebook"
    }
   },
   "outputs": [],
   "source": [
    "let data =\n",
    "    CsvFile.Load(\"https://raw.githubusercontent.com/plotly/datasets/master/stockdata.csv\")\n",
    "\n",
    "let getChart (stock: string) =\n",
    "    let y =\n",
    "        data.Rows\n",
    "        |> Seq.map (fun row -> row.GetColumn(stock))\n",
    "        |> Seq.take 250\n",
    "\n",
    "    let x =\n",
    "        data.Rows\n",
    "        |> Seq.map (fun row -> row.GetColumn(\"Date\"))\n",
    "        |> Seq.take 250\n",
    "\n",
    "    Chart.Line(x = x, y = y, Name = stock)\n"
   ]
  },
  {
   "attachments": {},
   "cell_type": "markdown",
   "metadata": {
    "dotnet_interactive": {
     "language": "csharp"
    },
    "polyglot_notebook": {
     "kernelName": "csharp"
    }
   },
   "source": [
    "Draw the char"
   ]
  },
  {
   "cell_type": "code",
   "execution_count": 10,
   "metadata": {
    "dotnet_interactive": {
     "language": "fsharp"
    },
    "polyglot_notebook": {
     "kernelName": "fsharp"
    },
    "vscode": {
     "languageId": "polyglot-notebook"
    }
   },
   "outputs": [],
   "source": [
    "let demo01 () = \n",
    "    [ \n",
    "        getChart \"AAPL\"\n",
    "        getChart \"SBUX\"\n",
    "        getChart \"IBM\"\n",
    "        getChart \"MSFT\" ]\n",
    "    |> Chart.combine\n",
    "    |> Chart.withXAxis (LinearAxis.init (DTick = \"M1\", TickFormat = \"%b\\n%Y\", TickLabelMode=StyleParam.TickLabelMode.Period))\n",
    "    |> Chart.withTitle(\"custom tick labels with TickLabelMode='Period'\")\n",
    "    |> Chart.show\n",
    "\n",
    "demo01()"
   ]
  },
  {
   "attachments": {},
   "cell_type": "markdown",
   "metadata": {
    "dotnet_interactive": {
     "language": "csharp"
    },
    "polyglot_notebook": {
     "kernelName": "csharp"
    }
   },
   "source": [
    "Test if we could use other project's lib"
   ]
  },
  {
   "cell_type": "code",
   "execution_count": 2,
   "metadata": {
    "dotnet_interactive": {
     "language": "fsharp"
    },
    "polyglot_notebook": {
     "kernelName": "fsharp"
    },
    "vscode": {
     "languageId": "polyglot-notebook"
    }
   },
   "outputs": [
    {
     "name": "stdout",
     "output_type": "stream",
     "text": [
      "\"wpdbhzay\"\n"
     ]
    }
   ],
   "source": [
    "#r \"../Tools/bin/Debug/net6.0/Tools.dll\"\n",
    "// Need to add \"Tools\" as project reference, and build project \"Tools\" to generate the Tools.dll\n",
    "open Tools.PigLatin\n",
    "\n",
    "toPigLatin \"zwpdbh\" |> printfn \"%A\""
   ]
  }
 ],
 "metadata": {
  "kernelspec": {
   "display_name": ".NET (C#)",
   "language": "C#",
   "name": ".net-csharp"
  },
  "polyglot_notebook": {
   "kernelInfo": {
    "defaultKernelName": "csharp",
    "items": [
     {
      "aliases": [
       "c#",
       "C#"
      ],
      "languageName": "C#",
      "name": "csharp"
     },
     {
      "aliases": [
       "frontend"
      ],
      "languageName": null,
      "name": "vscode"
     },
     {
      "aliases": [],
      "languageName": null,
      "name": ".NET"
     },
     {
      "aliases": [
       "f#",
       "F#"
      ],
      "languageName": "F#",
      "name": "fsharp"
     },
     {
      "aliases": [],
      "languageName": "HTML",
      "name": "html"
     },
     {
      "aliases": [],
      "languageName": "KQL",
      "name": "kql"
     },
     {
      "aliases": [],
      "languageName": "Mermaid",
      "name": "mermaid"
     },
     {
      "aliases": [
       "powershell"
      ],
      "languageName": "PowerShell",
      "name": "pwsh"
     },
     {
      "aliases": [],
      "languageName": "SQL",
      "name": "sql"
     },
     {
      "aliases": [],
      "languageName": null,
      "name": "value"
     }
    ]
   }
  }
 },
 "nbformat": 4,
 "nbformat_minor": 2
}
